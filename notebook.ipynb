{
 "cells": [
  {
   "metadata": {},
   "cell_type": "code",
   "source": [
    "import pandas as pd\n",
    "import numpy as np\n",
    "import datetime as dt"
   ],
   "id": "bbd32c03fb23e409",
   "outputs": [],
   "execution_count": null
  },
  {
   "metadata": {},
   "cell_type": "code",
   "source": [
    "extracted = pd.read_excel(r'data/extracted_data.xlsx')\n",
    "correction = pd.read_excel(r'data/agent_correction_requests.xlsx')\n",
    "\n",
    "data = extracted.copy()\n",
    "corrected = correction.copy()"
   ],
   "id": "61e4db65156ce3e2",
   "outputs": [],
   "execution_count": null
  },
  {
   "metadata": {
    "ExecuteTime": {
     "end_time": "2025-06-15T14:21:34.240140Z",
     "start_time": "2025-06-15T14:21:34.229441Z"
    }
   },
   "cell_type": "code",
   "source": [
    "class Data:\n",
    "    def __init__(self, df1, df2):\n",
    "        self.df1 = df1\n",
    "        self.df2 = df2\n",
    "    def clean_reference(self) -> pd.DataFrame:\n",
    "        self.df1['Account Reference'] = self.df1['Account Reference'].str.replace('\\'','')\n",
    "        return self.df1\n",
    "\n",
    "    def split_text(self) -> pd.DataFrame:\n",
    "        note = self.df1.copy()\n",
    "        notes = self.df1[self.df1['Notes'].str.len() > 100]\n",
    "        notes.loc[:, 'Notes'] = notes.Notes.str[100:]\n",
    "        note = pd.concat([note, notes])\n",
    "        note.Notes = note.Notes.str[0:101]\n",
    "        note = note.sort_index().reset_index(drop=True)\n",
    "        return note\n",
    "\n",
    "    def clean_data(self) -> pd.DataFrame:\n",
    "        cleaned = self.df1.copy()\n",
    "        corr = self.df2.copy().astype(str)\n",
    "        corr['Date'] = corr['Date'] + \" \" + corr['Time']\n",
    "        cleaned = cleaned[(cleaned['Date Gathered'].isin(corr['Date'])) & (cleaned['Account Reference'].isin(corr['Account number']))]\n",
    "\n",
    "        for i in range(len(cleaned)):\n",
    "            cleaned[corr.iloc[i,4]].iloc[i] = corr.iloc[i,5]\n",
    "        self.df1.update(cleaned)\n",
    "        return self.df1\n",
    "\n",
    "    def correction_status(self) -> pd.DataFrame:\n",
    "        cleaned = self.df1.copy()\n",
    "        corr = self.df2.copy().astype(str)\n",
    "        corr['Date'] = corr['Date'] + \" \" + corr['Time']\n",
    "        cleaned = cleaned[(cleaned['Date Gathered'].isin(corr['Date'])) & (cleaned['Account Reference'].isin(corr['Account number']))]\n",
    "        corr['Status'] = corr.apply(lambda x:\"Corrected\" if x['Date'] == cleaned['Date Gathered'] else \"Not Found\")\n",
    "        return corr\n",
    "\n",
    "    def save_data(self) -> None:\n",
    "        return\n",
    "\n",
    "\n",
    "\n"
   ],
   "id": "b7eb632d1c1260e1",
   "outputs": [],
   "execution_count": 191
  },
  {
   "metadata": {
    "ExecuteTime": {
     "end_time": "2025-06-15T14:21:36.283355Z",
     "start_time": "2025-06-15T14:21:35.998697Z"
    }
   },
   "cell_type": "code",
   "source": [
    "mysample = Data(data, corrected)\n",
    "mysample.clean_reference()\n",
    "mysample.correction_status()\n"
   ],
   "id": "75cafa5e52827af5",
   "outputs": [
    {
     "ename": "KeyError",
     "evalue": "'Date'",
     "output_type": "error",
     "traceback": [
      "\u001B[31m---------------------------------------------------------------------------\u001B[39m",
      "\u001B[31mKeyError\u001B[39m                                  Traceback (most recent call last)",
      "\u001B[36mCell\u001B[39m\u001B[36m \u001B[39m\u001B[32mIn[192]\u001B[39m\u001B[32m, line 3\u001B[39m\n\u001B[32m      1\u001B[39m mysample = Data(data, corrected)\n\u001B[32m      2\u001B[39m mysample.clean_reference()\n\u001B[32m----> \u001B[39m\u001B[32m3\u001B[39m \u001B[43mmysample\u001B[49m\u001B[43m.\u001B[49m\u001B[43mcorrection_status\u001B[49m\u001B[43m(\u001B[49m\u001B[43m)\u001B[49m\n",
      "\u001B[36mCell\u001B[39m\u001B[36m \u001B[39m\u001B[32mIn[191]\u001B[39m\u001B[32m, line 34\u001B[39m, in \u001B[36mData.correction_status\u001B[39m\u001B[34m(self)\u001B[39m\n\u001B[32m     32\u001B[39m corr[\u001B[33m'\u001B[39m\u001B[33mDate\u001B[39m\u001B[33m'\u001B[39m] = corr[\u001B[33m'\u001B[39m\u001B[33mDate\u001B[39m\u001B[33m'\u001B[39m] + \u001B[33m\"\u001B[39m\u001B[33m \u001B[39m\u001B[33m\"\u001B[39m + corr[\u001B[33m'\u001B[39m\u001B[33mTime\u001B[39m\u001B[33m'\u001B[39m]\n\u001B[32m     33\u001B[39m cleaned = cleaned[(cleaned[\u001B[33m'\u001B[39m\u001B[33mDate Gathered\u001B[39m\u001B[33m'\u001B[39m].isin(corr[\u001B[33m'\u001B[39m\u001B[33mDate\u001B[39m\u001B[33m'\u001B[39m])) & (cleaned[\u001B[33m'\u001B[39m\u001B[33mAccount Reference\u001B[39m\u001B[33m'\u001B[39m].isin(corr[\u001B[33m'\u001B[39m\u001B[33mAccount number\u001B[39m\u001B[33m'\u001B[39m]))]\n\u001B[32m---> \u001B[39m\u001B[32m34\u001B[39m corr[\u001B[33m'\u001B[39m\u001B[33mStatus\u001B[39m\u001B[33m'\u001B[39m] = \u001B[43mcorr\u001B[49m\u001B[43m.\u001B[49m\u001B[43mapply\u001B[49m\u001B[43m(\u001B[49m\u001B[38;5;28;43;01mlambda\u001B[39;49;00m\u001B[43m \u001B[49m\u001B[43mx\u001B[49m\u001B[43m:\u001B[49m\u001B[33;43m\"\u001B[39;49m\u001B[33;43mCorrected\u001B[39;49m\u001B[33;43m\"\u001B[39;49m\u001B[43m \u001B[49m\u001B[38;5;28;43;01mif\u001B[39;49;00m\u001B[43m \u001B[49m\u001B[43mx\u001B[49m\u001B[43m[\u001B[49m\u001B[33;43m'\u001B[39;49m\u001B[33;43mDate\u001B[39;49m\u001B[33;43m'\u001B[39;49m\u001B[43m]\u001B[49m\u001B[43m \u001B[49m\u001B[43m==\u001B[49m\u001B[43m \u001B[49m\u001B[43mcleaned\u001B[49m\u001B[43m[\u001B[49m\u001B[33;43m'\u001B[39;49m\u001B[33;43mDate Gathered\u001B[39;49m\u001B[33;43m'\u001B[39;49m\u001B[43m]\u001B[49m\u001B[43m \u001B[49m\u001B[38;5;28;43;01melse\u001B[39;49;00m\u001B[43m \u001B[49m\u001B[33;43m\"\u001B[39;49m\u001B[33;43mNot Found\u001B[39;49m\u001B[33;43m\"\u001B[39;49m\u001B[43m)\u001B[49m\n\u001B[32m     35\u001B[39m \u001B[38;5;28;01mreturn\u001B[39;00m corr\n",
      "\u001B[36mFile \u001B[39m\u001B[32m~\\PyCharmMiscProject\\.venv\\Lib\\site-packages\\pandas\\core\\frame.py:10381\u001B[39m, in \u001B[36mDataFrame.apply\u001B[39m\u001B[34m(self, func, axis, raw, result_type, args, by_row, engine, engine_kwargs, **kwargs)\u001B[39m\n\u001B[32m  10367\u001B[39m \u001B[38;5;28;01mfrom\u001B[39;00m\u001B[38;5;250m \u001B[39m\u001B[34;01mpandas\u001B[39;00m\u001B[34;01m.\u001B[39;00m\u001B[34;01mcore\u001B[39;00m\u001B[34;01m.\u001B[39;00m\u001B[34;01mapply\u001B[39;00m\u001B[38;5;250m \u001B[39m\u001B[38;5;28;01mimport\u001B[39;00m frame_apply\n\u001B[32m  10369\u001B[39m op = frame_apply(\n\u001B[32m  10370\u001B[39m     \u001B[38;5;28mself\u001B[39m,\n\u001B[32m  10371\u001B[39m     func=func,\n\u001B[32m   (...)\u001B[39m\u001B[32m  10379\u001B[39m     kwargs=kwargs,\n\u001B[32m  10380\u001B[39m )\n\u001B[32m> \u001B[39m\u001B[32m10381\u001B[39m \u001B[38;5;28;01mreturn\u001B[39;00m \u001B[43mop\u001B[49m\u001B[43m.\u001B[49m\u001B[43mapply\u001B[49m\u001B[43m(\u001B[49m\u001B[43m)\u001B[49m.__finalize__(\u001B[38;5;28mself\u001B[39m, method=\u001B[33m\"\u001B[39m\u001B[33mapply\u001B[39m\u001B[33m\"\u001B[39m)\n",
      "\u001B[36mFile \u001B[39m\u001B[32m~\\PyCharmMiscProject\\.venv\\Lib\\site-packages\\pandas\\core\\apply.py:916\u001B[39m, in \u001B[36mFrameApply.apply\u001B[39m\u001B[34m(self)\u001B[39m\n\u001B[32m    913\u001B[39m \u001B[38;5;28;01melif\u001B[39;00m \u001B[38;5;28mself\u001B[39m.raw:\n\u001B[32m    914\u001B[39m     \u001B[38;5;28;01mreturn\u001B[39;00m \u001B[38;5;28mself\u001B[39m.apply_raw(engine=\u001B[38;5;28mself\u001B[39m.engine, engine_kwargs=\u001B[38;5;28mself\u001B[39m.engine_kwargs)\n\u001B[32m--> \u001B[39m\u001B[32m916\u001B[39m \u001B[38;5;28;01mreturn\u001B[39;00m \u001B[38;5;28;43mself\u001B[39;49m\u001B[43m.\u001B[49m\u001B[43mapply_standard\u001B[49m\u001B[43m(\u001B[49m\u001B[43m)\u001B[49m\n",
      "\u001B[36mFile \u001B[39m\u001B[32m~\\PyCharmMiscProject\\.venv\\Lib\\site-packages\\pandas\\core\\apply.py:1063\u001B[39m, in \u001B[36mFrameApply.apply_standard\u001B[39m\u001B[34m(self)\u001B[39m\n\u001B[32m   1061\u001B[39m \u001B[38;5;28;01mdef\u001B[39;00m\u001B[38;5;250m \u001B[39m\u001B[34mapply_standard\u001B[39m(\u001B[38;5;28mself\u001B[39m):\n\u001B[32m   1062\u001B[39m     \u001B[38;5;28;01mif\u001B[39;00m \u001B[38;5;28mself\u001B[39m.engine == \u001B[33m\"\u001B[39m\u001B[33mpython\u001B[39m\u001B[33m\"\u001B[39m:\n\u001B[32m-> \u001B[39m\u001B[32m1063\u001B[39m         results, res_index = \u001B[38;5;28;43mself\u001B[39;49m\u001B[43m.\u001B[49m\u001B[43mapply_series_generator\u001B[49m\u001B[43m(\u001B[49m\u001B[43m)\u001B[49m\n\u001B[32m   1064\u001B[39m     \u001B[38;5;28;01melse\u001B[39;00m:\n\u001B[32m   1065\u001B[39m         results, res_index = \u001B[38;5;28mself\u001B[39m.apply_series_numba()\n",
      "\u001B[36mFile \u001B[39m\u001B[32m~\\PyCharmMiscProject\\.venv\\Lib\\site-packages\\pandas\\core\\apply.py:1081\u001B[39m, in \u001B[36mFrameApply.apply_series_generator\u001B[39m\u001B[34m(self)\u001B[39m\n\u001B[32m   1078\u001B[39m \u001B[38;5;28;01mwith\u001B[39;00m option_context(\u001B[33m\"\u001B[39m\u001B[33mmode.chained_assignment\u001B[39m\u001B[33m\"\u001B[39m, \u001B[38;5;28;01mNone\u001B[39;00m):\n\u001B[32m   1079\u001B[39m     \u001B[38;5;28;01mfor\u001B[39;00m i, v \u001B[38;5;129;01min\u001B[39;00m \u001B[38;5;28menumerate\u001B[39m(series_gen):\n\u001B[32m   1080\u001B[39m         \u001B[38;5;66;03m# ignore SettingWithCopy here in case the user mutates\u001B[39;00m\n\u001B[32m-> \u001B[39m\u001B[32m1081\u001B[39m         results[i] = \u001B[38;5;28;43mself\u001B[39;49m\u001B[43m.\u001B[49m\u001B[43mfunc\u001B[49m\u001B[43m(\u001B[49m\u001B[43mv\u001B[49m\u001B[43m,\u001B[49m\u001B[43m \u001B[49m\u001B[43m*\u001B[49m\u001B[38;5;28;43mself\u001B[39;49m\u001B[43m.\u001B[49m\u001B[43margs\u001B[49m\u001B[43m,\u001B[49m\u001B[43m \u001B[49m\u001B[43m*\u001B[49m\u001B[43m*\u001B[49m\u001B[38;5;28;43mself\u001B[39;49m\u001B[43m.\u001B[49m\u001B[43mkwargs\u001B[49m\u001B[43m)\u001B[49m\n\u001B[32m   1082\u001B[39m         \u001B[38;5;28;01mif\u001B[39;00m \u001B[38;5;28misinstance\u001B[39m(results[i], ABCSeries):\n\u001B[32m   1083\u001B[39m             \u001B[38;5;66;03m# If we have a view on v, we need to make a copy because\u001B[39;00m\n\u001B[32m   1084\u001B[39m             \u001B[38;5;66;03m#  series_generator will swap out the underlying data\u001B[39;00m\n\u001B[32m   1085\u001B[39m             results[i] = results[i].copy(deep=\u001B[38;5;28;01mFalse\u001B[39;00m)\n",
      "\u001B[36mCell\u001B[39m\u001B[36m \u001B[39m\u001B[32mIn[191]\u001B[39m\u001B[32m, line 34\u001B[39m, in \u001B[36mData.correction_status.<locals>.<lambda>\u001B[39m\u001B[34m(x)\u001B[39m\n\u001B[32m     32\u001B[39m corr[\u001B[33m'\u001B[39m\u001B[33mDate\u001B[39m\u001B[33m'\u001B[39m] = corr[\u001B[33m'\u001B[39m\u001B[33mDate\u001B[39m\u001B[33m'\u001B[39m] + \u001B[33m\"\u001B[39m\u001B[33m \u001B[39m\u001B[33m\"\u001B[39m + corr[\u001B[33m'\u001B[39m\u001B[33mTime\u001B[39m\u001B[33m'\u001B[39m]\n\u001B[32m     33\u001B[39m cleaned = cleaned[(cleaned[\u001B[33m'\u001B[39m\u001B[33mDate Gathered\u001B[39m\u001B[33m'\u001B[39m].isin(corr[\u001B[33m'\u001B[39m\u001B[33mDate\u001B[39m\u001B[33m'\u001B[39m])) & (cleaned[\u001B[33m'\u001B[39m\u001B[33mAccount Reference\u001B[39m\u001B[33m'\u001B[39m].isin(corr[\u001B[33m'\u001B[39m\u001B[33mAccount number\u001B[39m\u001B[33m'\u001B[39m]))]\n\u001B[32m---> \u001B[39m\u001B[32m34\u001B[39m corr[\u001B[33m'\u001B[39m\u001B[33mStatus\u001B[39m\u001B[33m'\u001B[39m] = corr.apply(\u001B[38;5;28;01mlambda\u001B[39;00m x:\u001B[33m\"\u001B[39m\u001B[33mCorrected\u001B[39m\u001B[33m\"\u001B[39m \u001B[38;5;28;01mif\u001B[39;00m \u001B[43mx\u001B[49m\u001B[43m[\u001B[49m\u001B[33;43m'\u001B[39;49m\u001B[33;43mDate\u001B[39;49m\u001B[33;43m'\u001B[39;49m\u001B[43m]\u001B[49m == cleaned[\u001B[33m'\u001B[39m\u001B[33mDate Gathered\u001B[39m\u001B[33m'\u001B[39m] \u001B[38;5;28;01melse\u001B[39;00m \u001B[33m\"\u001B[39m\u001B[33mNot Found\u001B[39m\u001B[33m\"\u001B[39m)\n\u001B[32m     35\u001B[39m \u001B[38;5;28;01mreturn\u001B[39;00m corr\n",
      "\u001B[36mFile \u001B[39m\u001B[32m~\\PyCharmMiscProject\\.venv\\Lib\\site-packages\\pandas\\core\\series.py:1130\u001B[39m, in \u001B[36mSeries.__getitem__\u001B[39m\u001B[34m(self, key)\u001B[39m\n\u001B[32m   1127\u001B[39m     \u001B[38;5;28;01mreturn\u001B[39;00m \u001B[38;5;28mself\u001B[39m._values[key]\n\u001B[32m   1129\u001B[39m \u001B[38;5;28;01melif\u001B[39;00m key_is_scalar:\n\u001B[32m-> \u001B[39m\u001B[32m1130\u001B[39m     \u001B[38;5;28;01mreturn\u001B[39;00m \u001B[38;5;28;43mself\u001B[39;49m\u001B[43m.\u001B[49m\u001B[43m_get_value\u001B[49m\u001B[43m(\u001B[49m\u001B[43mkey\u001B[49m\u001B[43m)\u001B[49m\n\u001B[32m   1132\u001B[39m \u001B[38;5;66;03m# Convert generator to list before going through hashable part\u001B[39;00m\n\u001B[32m   1133\u001B[39m \u001B[38;5;66;03m# (We will iterate through the generator there to check for slices)\u001B[39;00m\n\u001B[32m   1134\u001B[39m \u001B[38;5;28;01mif\u001B[39;00m is_iterator(key):\n",
      "\u001B[36mFile \u001B[39m\u001B[32m~\\PyCharmMiscProject\\.venv\\Lib\\site-packages\\pandas\\core\\series.py:1246\u001B[39m, in \u001B[36mSeries._get_value\u001B[39m\u001B[34m(self, label, takeable)\u001B[39m\n\u001B[32m   1243\u001B[39m     \u001B[38;5;28;01mreturn\u001B[39;00m \u001B[38;5;28mself\u001B[39m._values[label]\n\u001B[32m   1245\u001B[39m \u001B[38;5;66;03m# Similar to Index.get_value, but we do not fall back to positional\u001B[39;00m\n\u001B[32m-> \u001B[39m\u001B[32m1246\u001B[39m loc = \u001B[38;5;28;43mself\u001B[39;49m\u001B[43m.\u001B[49m\u001B[43mindex\u001B[49m\u001B[43m.\u001B[49m\u001B[43mget_loc\u001B[49m\u001B[43m(\u001B[49m\u001B[43mlabel\u001B[49m\u001B[43m)\u001B[49m\n\u001B[32m   1248\u001B[39m \u001B[38;5;28;01mif\u001B[39;00m is_integer(loc):\n\u001B[32m   1249\u001B[39m     \u001B[38;5;28;01mreturn\u001B[39;00m \u001B[38;5;28mself\u001B[39m._values[loc]\n",
      "\u001B[36mFile \u001B[39m\u001B[32m~\\PyCharmMiscProject\\.venv\\Lib\\site-packages\\pandas\\core\\indexes\\range.py:417\u001B[39m, in \u001B[36mRangeIndex.get_loc\u001B[39m\u001B[34m(self, key)\u001B[39m\n\u001B[32m    415\u001B[39m         \u001B[38;5;28;01mraise\u001B[39;00m \u001B[38;5;167;01mKeyError\u001B[39;00m(key) \u001B[38;5;28;01mfrom\u001B[39;00m\u001B[38;5;250m \u001B[39m\u001B[34;01merr\u001B[39;00m\n\u001B[32m    416\u001B[39m \u001B[38;5;28;01mif\u001B[39;00m \u001B[38;5;28misinstance\u001B[39m(key, Hashable):\n\u001B[32m--> \u001B[39m\u001B[32m417\u001B[39m     \u001B[38;5;28;01mraise\u001B[39;00m \u001B[38;5;167;01mKeyError\u001B[39;00m(key)\n\u001B[32m    418\u001B[39m \u001B[38;5;28mself\u001B[39m._check_indexing_error(key)\n\u001B[32m    419\u001B[39m \u001B[38;5;28;01mraise\u001B[39;00m \u001B[38;5;167;01mKeyError\u001B[39;00m(key)\n",
      "\u001B[31mKeyError\u001B[39m: 'Date'"
     ]
    }
   ],
   "execution_count": 192
  }
 ],
 "metadata": {
  "kernelspec": {
   "display_name": "Python 3",
   "language": "python",
   "name": "python3"
  },
  "language_info": {
   "codemirror_mode": {
    "name": "ipython",
    "version": 2
   },
   "file_extension": ".py",
   "mimetype": "text/x-python",
   "name": "python",
   "nbconvert_exporter": "python",
   "pygments_lexer": "ipython2",
   "version": "2.7.6"
  }
 },
 "nbformat": 4,
 "nbformat_minor": 5
}
